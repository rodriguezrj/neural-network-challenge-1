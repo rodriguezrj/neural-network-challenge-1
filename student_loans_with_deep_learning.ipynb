{
  "cells": [
    {
      "cell_type": "markdown",
      "metadata": {
        "id": "T7ZNhGcW6q6r"
      },
      "source": [
        "# Student Loan Risk with Deep Learning"
      ]
    },
    {
      "cell_type": "code",
      "execution_count": 1,
      "metadata": {
        "id": "0otrXpJc6q6u"
      },
      "outputs": [],
      "source": [
        "# Imports\n",
        "import pandas as pd\n",
        "import tensorflow as tf\n",
        "from tensorflow.keras.layers import Dense\n",
        "from tensorflow.keras.models import Sequential\n",
        "from sklearn.model_selection import train_test_split\n",
        "from sklearn.preprocessing import StandardScaler\n",
        "from sklearn.metrics import classification_report\n",
        "from pathlib import Path"
      ]
    },
    {
      "cell_type": "markdown",
      "metadata": {
        "id": "OpV4Y-3Z6q6w"
      },
      "source": [
        "---\n",
        "\n",
        "## Prepare the data to be used on a neural network model"
      ]
    },
    {
      "cell_type": "markdown",
      "metadata": {
        "id": "TUuSzp2l6q6w"
      },
      "source": [
        "### Step 1: Read the `student-loans.csv` file into a Pandas DataFrame. Review the DataFrame, looking for columns that could eventually define your features and target variables.   "
      ]
    },
    {
      "cell_type": "code",
      "execution_count": 2,
      "metadata": {
        "colab": {
          "base_uri": "https://localhost:8080/",
          "height": 226
        },
        "id": "G65km1KD6q6x",
        "outputId": "93d12d8d-c415-4017-8452-5b4966e4dde5"
      },
      "outputs": [
        {
          "data": {
            "text/html": [
              "<div>\n",
              "<style scoped>\n",
              "    .dataframe tbody tr th:only-of-type {\n",
              "        vertical-align: middle;\n",
              "    }\n",
              "\n",
              "    .dataframe tbody tr th {\n",
              "        vertical-align: top;\n",
              "    }\n",
              "\n",
              "    .dataframe thead th {\n",
              "        text-align: right;\n",
              "    }\n",
              "</style>\n",
              "<table border=\"1\" class=\"dataframe\">\n",
              "  <thead>\n",
              "    <tr style=\"text-align: right;\">\n",
              "      <th></th>\n",
              "      <th>payment_history</th>\n",
              "      <th>location_parameter</th>\n",
              "      <th>stem_degree_score</th>\n",
              "      <th>gpa_ranking</th>\n",
              "      <th>alumni_success</th>\n",
              "      <th>study_major_code</th>\n",
              "      <th>time_to_completion</th>\n",
              "      <th>finance_workshop_score</th>\n",
              "      <th>cohort_ranking</th>\n",
              "      <th>total_loan_score</th>\n",
              "      <th>financial_aid_score</th>\n",
              "      <th>credit_ranking</th>\n",
              "    </tr>\n",
              "  </thead>\n",
              "  <tbody>\n",
              "    <tr>\n",
              "      <th>0</th>\n",
              "      <td>7.4</td>\n",
              "      <td>0.70</td>\n",
              "      <td>0.00</td>\n",
              "      <td>1.9</td>\n",
              "      <td>0.076</td>\n",
              "      <td>11.0</td>\n",
              "      <td>34.0</td>\n",
              "      <td>0.9978</td>\n",
              "      <td>3.51</td>\n",
              "      <td>0.56</td>\n",
              "      <td>9.4</td>\n",
              "      <td>0</td>\n",
              "    </tr>\n",
              "    <tr>\n",
              "      <th>1</th>\n",
              "      <td>7.8</td>\n",
              "      <td>0.88</td>\n",
              "      <td>0.00</td>\n",
              "      <td>2.6</td>\n",
              "      <td>0.098</td>\n",
              "      <td>25.0</td>\n",
              "      <td>67.0</td>\n",
              "      <td>0.9968</td>\n",
              "      <td>3.20</td>\n",
              "      <td>0.68</td>\n",
              "      <td>9.8</td>\n",
              "      <td>0</td>\n",
              "    </tr>\n",
              "    <tr>\n",
              "      <th>2</th>\n",
              "      <td>7.8</td>\n",
              "      <td>0.76</td>\n",
              "      <td>0.04</td>\n",
              "      <td>2.3</td>\n",
              "      <td>0.092</td>\n",
              "      <td>15.0</td>\n",
              "      <td>54.0</td>\n",
              "      <td>0.9970</td>\n",
              "      <td>3.26</td>\n",
              "      <td>0.65</td>\n",
              "      <td>9.8</td>\n",
              "      <td>0</td>\n",
              "    </tr>\n",
              "    <tr>\n",
              "      <th>3</th>\n",
              "      <td>11.2</td>\n",
              "      <td>0.28</td>\n",
              "      <td>0.56</td>\n",
              "      <td>1.9</td>\n",
              "      <td>0.075</td>\n",
              "      <td>17.0</td>\n",
              "      <td>60.0</td>\n",
              "      <td>0.9980</td>\n",
              "      <td>3.16</td>\n",
              "      <td>0.58</td>\n",
              "      <td>9.8</td>\n",
              "      <td>1</td>\n",
              "    </tr>\n",
              "    <tr>\n",
              "      <th>4</th>\n",
              "      <td>7.4</td>\n",
              "      <td>0.70</td>\n",
              "      <td>0.00</td>\n",
              "      <td>1.9</td>\n",
              "      <td>0.076</td>\n",
              "      <td>11.0</td>\n",
              "      <td>34.0</td>\n",
              "      <td>0.9978</td>\n",
              "      <td>3.51</td>\n",
              "      <td>0.56</td>\n",
              "      <td>9.4</td>\n",
              "      <td>0</td>\n",
              "    </tr>\n",
              "  </tbody>\n",
              "</table>\n",
              "</div>"
            ],
            "text/plain": [
              "   payment_history  location_parameter  stem_degree_score  gpa_ranking  \\\n",
              "0              7.4                0.70               0.00          1.9   \n",
              "1              7.8                0.88               0.00          2.6   \n",
              "2              7.8                0.76               0.04          2.3   \n",
              "3             11.2                0.28               0.56          1.9   \n",
              "4              7.4                0.70               0.00          1.9   \n",
              "\n",
              "   alumni_success  study_major_code  time_to_completion  \\\n",
              "0           0.076              11.0                34.0   \n",
              "1           0.098              25.0                67.0   \n",
              "2           0.092              15.0                54.0   \n",
              "3           0.075              17.0                60.0   \n",
              "4           0.076              11.0                34.0   \n",
              "\n",
              "   finance_workshop_score  cohort_ranking  total_loan_score  \\\n",
              "0                  0.9978            3.51              0.56   \n",
              "1                  0.9968            3.20              0.68   \n",
              "2                  0.9970            3.26              0.65   \n",
              "3                  0.9980            3.16              0.58   \n",
              "4                  0.9978            3.51              0.56   \n",
              "\n",
              "   financial_aid_score  credit_ranking  \n",
              "0                  9.4               0  \n",
              "1                  9.8               0  \n",
              "2                  9.8               0  \n",
              "3                  9.8               1  \n",
              "4                  9.4               0  "
            ]
          },
          "execution_count": 2,
          "metadata": {},
          "output_type": "execute_result"
        }
      ],
      "source": [
        "# Read the csv into a Pandas DataFrame\n",
        "file_path = \"https://static.bc-edx.com/ai/ail-v-1-0/m18/lms/datasets/student-loans.csv\"\n",
        "loans_df = pd.read_csv(file_path)\n",
        "\n",
        "# Review the DataFrame\n",
        "loans_df.head()"
      ]
    },
    {
      "cell_type": "code",
      "execution_count": 3,
      "metadata": {
        "colab": {
          "base_uri": "https://localhost:8080/"
        },
        "id": "K8ZYB8wx6q6x",
        "outputId": "b509fc34-4488-406e-e451-2069fec37371"
      },
      "outputs": [
        {
          "data": {
            "text/plain": [
              "payment_history           float64\n",
              "location_parameter        float64\n",
              "stem_degree_score         float64\n",
              "gpa_ranking               float64\n",
              "alumni_success            float64\n",
              "study_major_code          float64\n",
              "time_to_completion        float64\n",
              "finance_workshop_score    float64\n",
              "cohort_ranking            float64\n",
              "total_loan_score          float64\n",
              "financial_aid_score       float64\n",
              "credit_ranking              int64\n",
              "dtype: object"
            ]
          },
          "execution_count": 3,
          "metadata": {},
          "output_type": "execute_result"
        }
      ],
      "source": [
        "# Review the data types associated with the columns\n",
        "loans_df.dtypes"
      ]
    },
    {
      "cell_type": "code",
      "execution_count": 4,
      "metadata": {
        "colab": {
          "base_uri": "https://localhost:8080/"
        },
        "id": "9P8aX-dW75JO",
        "outputId": "63251fa8-5ac1-4112-c2f7-bc5d97ea8491"
      },
      "outputs": [
        {
          "data": {
            "text/plain": [
              "credit_ranking\n",
              "1    855\n",
              "0    744\n",
              "Name: count, dtype: int64"
            ]
          },
          "execution_count": 4,
          "metadata": {},
          "output_type": "execute_result"
        }
      ],
      "source": [
        "# Check the credit_ranking value counts\n",
        "loans_df[\"credit_ranking\"].value_counts()"
      ]
    },
    {
      "cell_type": "markdown",
      "metadata": {
        "id": "R6vbZeDH6q6y"
      },
      "source": [
        "### Step 2: Using the preprocessed data, create the features (`X`) and target (`y`) datasets. The target dataset should be defined by the preprocessed DataFrame column “credit_ranking”. The remaining columns should define the features dataset."
      ]
    },
    {
      "cell_type": "code",
      "execution_count": 5,
      "metadata": {
        "colab": {
          "base_uri": "https://localhost:8080/"
        },
        "id": "Q5eVAP5M6q6y",
        "outputId": "89728bbf-6930-4573-a126-9f1b66ed8859"
      },
      "outputs": [
        {
          "name": "stdout",
          "output_type": "stream",
          "text": [
            "0    0\n",
            "1    0\n",
            "2    0\n",
            "3    1\n",
            "4    0\n",
            "Name: credit_ranking, dtype: int64\n"
          ]
        }
      ],
      "source": [
        "# Define the target set using the credit_ranking column\n",
        "y = loans_df['credit_ranking']\n",
        "\n",
        "# Display a sample of y\n",
        "print(y.head())\n",
        "\n"
      ]
    },
    {
      "cell_type": "code",
      "execution_count": 6,
      "metadata": {
        "colab": {
          "base_uri": "https://localhost:8080/",
          "height": 226
        },
        "id": "IIkrD2Sn6q6z",
        "outputId": "ce07c4a3-fb81-4657-d11e-ec85ae8554c9"
      },
      "outputs": [
        {
          "name": "stdout",
          "output_type": "stream",
          "text": [
            "   payment_history  location_parameter  stem_degree_score  gpa_ranking  \\\n",
            "0              7.4                0.70               0.00          1.9   \n",
            "1              7.8                0.88               0.00          2.6   \n",
            "2              7.8                0.76               0.04          2.3   \n",
            "3             11.2                0.28               0.56          1.9   \n",
            "4              7.4                0.70               0.00          1.9   \n",
            "\n",
            "   alumni_success  study_major_code  time_to_completion  \\\n",
            "0           0.076              11.0                34.0   \n",
            "1           0.098              25.0                67.0   \n",
            "2           0.092              15.0                54.0   \n",
            "3           0.075              17.0                60.0   \n",
            "4           0.076              11.0                34.0   \n",
            "\n",
            "   finance_workshop_score  cohort_ranking  total_loan_score  \\\n",
            "0                  0.9978            3.51              0.56   \n",
            "1                  0.9968            3.20              0.68   \n",
            "2                  0.9970            3.26              0.65   \n",
            "3                  0.9980            3.16              0.58   \n",
            "4                  0.9978            3.51              0.56   \n",
            "\n",
            "   financial_aid_score  \n",
            "0                  9.4  \n",
            "1                  9.8  \n",
            "2                  9.8  \n",
            "3                  9.8  \n",
            "4                  9.4  \n"
          ]
        }
      ],
      "source": [
        "# Define the features set X by selecting all columns but credit_ranking\n",
        "X = loans_df.drop('credit_ranking', axis=1)\n",
        "\n",
        "# Review the features DataFrame\n",
        "print(X.head())\n",
        "\n"
      ]
    },
    {
      "cell_type": "markdown",
      "metadata": {
        "id": "QmM9c-tj6q6z"
      },
      "source": [
        "### Step 3: Split the features and target sets into training and testing datasets.\n"
      ]
    },
    {
      "cell_type": "code",
      "execution_count": 7,
      "metadata": {
        "id": "OD7xwU_96q6z"
      },
      "outputs": [
        {
          "name": "stdout",
          "output_type": "stream",
          "text": [
            "Training features shape: (1279, 11)\n",
            "Testing features shape: (320, 11)\n",
            "Training labels shape: (1279,)\n",
            "Testing labels shape: (320,)\n"
          ]
        }
      ],
      "source": [
        "# Split the preprocessed data into a training and testing dataset\n",
        "# Assign the function a random_state equal to 1\n",
        "X_train, X_test, y_train, y_test = train_test_split(X, y, test_size=0.2, random_state=1)\n",
        "\n",
        "# Display the shapes of the resulting datasets to confirm the split\n",
        "print(\"Training features shape:\", X_train.shape)\n",
        "print(\"Testing features shape:\", X_test.shape)\n",
        "print(\"Training labels shape:\", y_train.shape)\n",
        "print(\"Testing labels shape:\", y_test.shape)"
      ]
    },
    {
      "cell_type": "markdown",
      "metadata": {
        "id": "G9i6DHY06q6z"
      },
      "source": [
        "### Step 4: Use scikit-learn's `StandardScaler` to scale the features data."
      ]
    },
    {
      "cell_type": "code",
      "execution_count": 8,
      "metadata": {
        "id": "BzD3z20m6q6z"
      },
      "outputs": [
        {
          "name": "stdout",
          "output_type": "stream",
          "text": [
            "[[-0.73307913  0.6648928  -1.25704443 -0.3204585  -0.45362151 -0.74240736\n",
            "  -0.6455073   0.24000129  0.98846046  0.0630946  -0.87223395]\n",
            " [ 1.06774091 -0.62346154  1.52314768  0.60886277 -0.36954631 -1.12518952\n",
            "  -1.11200285  0.18789883 -1.7535127  -0.17390392 -0.77978452]\n",
            " [-1.74604041 -1.07158479 -1.35814232 -0.53491726 -0.78992229  1.07580793\n",
            "   0.53628144 -2.67773653  2.32756363  0.77409018  3.28799021]\n",
            " [-0.62052788  0.49684658 -1.05484864 -0.0345135  -0.20139592  0.11885252\n",
            "   1.18937522  0.37546769  1.24352773 -0.76640023 -0.6873351 ]\n",
            " [-0.50797663  0.60887739 -1.00429969 -0.53491726  0.26101766 -0.74240736\n",
            "  -0.7077067  -0.33312578 -0.09557544 -0.47015208 -0.77978452]]\n"
          ]
        }
      ],
      "source": [
        "# Create a StandardScaler instance\n",
        "scaler = StandardScaler()\n",
        "\n",
        "# Fit the scaler to the features training dataset\n",
        "scaler.fit(X_train)\n",
        "\n",
        "# Transform the training data\n",
        "X_train_scaled = scaler.transform(X_train)\n",
        "\n",
        "# Optionally, transform the testing data (should be done when you're ready to use the test data)\n",
        "X_test_scaled = scaler.transform(X_test)\n",
        "\n",
        "# Display the first few entries of the scaled training features to verify\n",
        "print(X_train_scaled[:5])\n",
        "\n"
      ]
    },
    {
      "cell_type": "markdown",
      "metadata": {
        "id": "CZzVDjba6q6z"
      },
      "source": [
        "---\n",
        "\n",
        "## Compile and Evaluate a Model Using a Neural Network"
      ]
    },
    {
      "cell_type": "markdown",
      "metadata": {
        "id": "m-pSux4Q6q60"
      },
      "source": [
        "### Step 1: Create a deep neural network by assigning the number of input features, the number of layers, and the number of neurons on each layer using Tensorflow’s Keras.\n",
        "\n",
        "> **Hint** You can start with a two-layer deep neural network model that uses the `relu` activation function for both layers.\n"
      ]
    },
    {
      "cell_type": "code",
      "execution_count": 9,
      "metadata": {
        "colab": {
          "base_uri": "https://localhost:8080/"
        },
        "id": "t5C94FCd6q60",
        "outputId": "cbf05783-2f56-4745-cd33-649a6152e510"
      },
      "outputs": [
        {
          "name": "stdout",
          "output_type": "stream",
          "text": [
            "Number of features: 11\n"
          ]
        }
      ],
      "source": [
        "# Define the number of inputs (features) to the model\n",
        "number_of_features = X_train_scaled.shape[1]\n",
        "\n",
        "# Print the number of features\n",
        "print(\"Number of features:\", number_of_features)\n",
        "\n"
      ]
    },
    {
      "cell_type": "code",
      "execution_count": 10,
      "metadata": {
        "id": "c_KXDLkF6q60"
      },
      "outputs": [
        {
          "name": "stdout",
          "output_type": "stream",
          "text": [
            "Number of neurons in first layer: 6\n",
            "Number of neurons in second layer: 3\n"
          ]
        }
      ],
      "source": [
        "# Define the number of hidden nodes for the first hidden layer\n",
        "hidden_nodes_layer1 = (number_of_features + 1) // 2\n",
        "\n",
        "# Define the number of hidden nodes for the second hidden layer\n",
        "hidden_nodes_layer2 = hidden_nodes_layer1 // 2\n",
        "\n",
        "#  Define the number of neurons in the output layer\n",
        "print(\"Number of neurons in first layer:\", hidden_nodes_layer1)\n",
        "print(\"Number of neurons in second layer:\", hidden_nodes_layer2)\n",
        "\n",
        "# Define the number of neurons in the output layer for binary classification\n",
        "output_neurons = 1  # This should be defined here\n",
        "\n"
      ]
    },
    {
      "cell_type": "code",
      "execution_count": 11,
      "metadata": {
        "id": "63UdFncw6q60"
      },
      "outputs": [],
      "source": [
        "# Create the Sequential model instance\n",
        "model = Sequential()\n",
        "\n",
        "# Add the first hidden layer\n",
        "model.add(Dense(units=hidden_nodes_layer1, activation='relu', input_shape=(number_of_features,)))\n",
        "\n",
        "# Add the second hidden layer\n",
        "model.add(Dense(units=hidden_nodes_layer2, activation='relu'))\n",
        "\n",
        "# Add the output layer\n",
        "model.add(Dense(units=output_neurons, activation='sigmoid'))\n",
        "\n"
      ]
    },
    {
      "cell_type": "code",
      "execution_count": 12,
      "metadata": {
        "colab": {
          "base_uri": "https://localhost:8080/"
        },
        "id": "-Beoh4f_6q61",
        "outputId": "2e50f810-086b-4d89-bf7d-98afbe0d649d"
      },
      "outputs": [
        {
          "name": "stdout",
          "output_type": "stream",
          "text": [
            "Model: \"sequential\"\n",
            "_________________________________________________________________\n",
            " Layer (type)                Output Shape              Param #   \n",
            "=================================================================\n",
            " dense (Dense)               (None, 6)                 72        \n",
            "                                                                 \n",
            " dense_1 (Dense)             (None, 3)                 21        \n",
            "                                                                 \n",
            " dense_2 (Dense)             (None, 1)                 4         \n",
            "                                                                 \n",
            "=================================================================\n",
            "Total params: 97\n",
            "Trainable params: 97\n",
            "Non-trainable params: 0\n",
            "_________________________________________________________________\n",
            "None\n"
          ]
        }
      ],
      "source": [
        "# Display the Sequential model summary\n",
        "# Print the model summary\n",
        "print(model.summary())"
      ]
    },
    {
      "cell_type": "markdown",
      "metadata": {
        "id": "nRqWGIRo6q61"
      },
      "source": [
        "### Step 2: Compile and fit the model using the `binary_crossentropy` loss function, the `adam` optimizer, and the `accuracy` evaluation metric.\n"
      ]
    },
    {
      "cell_type": "code",
      "execution_count": 13,
      "metadata": {
        "id": "E-hZaeSn6q61"
      },
      "outputs": [],
      "source": [
        "# Compile the Sequential model\n",
        "model.compile(\n",
        "    optimizer='adam',             # Optimizer\n",
        "    loss='binary_crossentropy',   # Loss function for binary classification\n",
        "    metrics=['accuracy']          # List of metrics to evaluate during training and testing\n",
        ")\n"
      ]
    },
    {
      "cell_type": "code",
      "execution_count": 14,
      "metadata": {
        "colab": {
          "base_uri": "https://localhost:8080/"
        },
        "id": "x25e8Idc6q61",
        "outputId": "e95946ba-23da-47a3-a1c1-5e9a2a484a47"
      },
      "outputs": [
        {
          "name": "stdout",
          "output_type": "stream",
          "text": [
            "Epoch 1/50\n",
            "32/32 [==============================] - 2s 11ms/step - loss: 0.6836 - accuracy: 0.5904 - val_loss: 0.6724 - val_accuracy: 0.6133\n",
            "Epoch 2/50\n",
            "32/32 [==============================] - 0s 3ms/step - loss: 0.6630 - accuracy: 0.6139 - val_loss: 0.6557 - val_accuracy: 0.6562\n",
            "Epoch 3/50\n",
            "32/32 [==============================] - 0s 3ms/step - loss: 0.6477 - accuracy: 0.6325 - val_loss: 0.6412 - val_accuracy: 0.6758\n",
            "Epoch 4/50\n",
            "32/32 [==============================] - 0s 6ms/step - loss: 0.6342 - accuracy: 0.6452 - val_loss: 0.6280 - val_accuracy: 0.6914\n",
            "Epoch 5/50\n",
            "32/32 [==============================] - 0s 8ms/step - loss: 0.6221 - accuracy: 0.6725 - val_loss: 0.6162 - val_accuracy: 0.6914\n",
            "Epoch 6/50\n",
            "32/32 [==============================] - 0s 9ms/step - loss: 0.6118 - accuracy: 0.6774 - val_loss: 0.6058 - val_accuracy: 0.6992\n",
            "Epoch 7/50\n",
            "32/32 [==============================] - 0s 9ms/step - loss: 0.6020 - accuracy: 0.6882 - val_loss: 0.5964 - val_accuracy: 0.7148\n",
            "Epoch 8/50\n",
            "32/32 [==============================] - 0s 9ms/step - loss: 0.5935 - accuracy: 0.6931 - val_loss: 0.5877 - val_accuracy: 0.7266\n",
            "Epoch 9/50\n",
            "32/32 [==============================] - 0s 11ms/step - loss: 0.5857 - accuracy: 0.6979 - val_loss: 0.5794 - val_accuracy: 0.7305\n",
            "Epoch 10/50\n",
            "32/32 [==============================] - 0s 11ms/step - loss: 0.5781 - accuracy: 0.7048 - val_loss: 0.5743 - val_accuracy: 0.7344\n",
            "Epoch 11/50\n",
            "32/32 [==============================] - 0s 11ms/step - loss: 0.5719 - accuracy: 0.7146 - val_loss: 0.5687 - val_accuracy: 0.7344\n",
            "Epoch 12/50\n",
            "32/32 [==============================] - 0s 13ms/step - loss: 0.5668 - accuracy: 0.7146 - val_loss: 0.5625 - val_accuracy: 0.7383\n",
            "Epoch 13/50\n",
            "32/32 [==============================] - 0s 10ms/step - loss: 0.5609 - accuracy: 0.7195 - val_loss: 0.5591 - val_accuracy: 0.7344\n",
            "Epoch 14/50\n",
            "32/32 [==============================] - 0s 10ms/step - loss: 0.5558 - accuracy: 0.7253 - val_loss: 0.5550 - val_accuracy: 0.7383\n",
            "Epoch 15/50\n",
            "32/32 [==============================] - 0s 10ms/step - loss: 0.5516 - accuracy: 0.7312 - val_loss: 0.5515 - val_accuracy: 0.7344\n",
            "Epoch 16/50\n",
            "32/32 [==============================] - 0s 10ms/step - loss: 0.5468 - accuracy: 0.7370 - val_loss: 0.5480 - val_accuracy: 0.7383\n",
            "Epoch 17/50\n",
            "32/32 [==============================] - 0s 11ms/step - loss: 0.5428 - accuracy: 0.7400 - val_loss: 0.5449 - val_accuracy: 0.7422\n",
            "Epoch 18/50\n",
            "32/32 [==============================] - 0s 10ms/step - loss: 0.5387 - accuracy: 0.7429 - val_loss: 0.5431 - val_accuracy: 0.7305\n",
            "Epoch 19/50\n",
            "32/32 [==============================] - 0s 10ms/step - loss: 0.5351 - accuracy: 0.7449 - val_loss: 0.5396 - val_accuracy: 0.7305\n",
            "Epoch 20/50\n",
            "32/32 [==============================] - 0s 10ms/step - loss: 0.5320 - accuracy: 0.7458 - val_loss: 0.5368 - val_accuracy: 0.7344\n",
            "Epoch 21/50\n",
            "32/32 [==============================] - 0s 10ms/step - loss: 0.5283 - accuracy: 0.7498 - val_loss: 0.5357 - val_accuracy: 0.7383\n",
            "Epoch 22/50\n",
            "32/32 [==============================] - 0s 11ms/step - loss: 0.5257 - accuracy: 0.7566 - val_loss: 0.5328 - val_accuracy: 0.7383\n",
            "Epoch 23/50\n",
            "32/32 [==============================] - 0s 12ms/step - loss: 0.5228 - accuracy: 0.7546 - val_loss: 0.5318 - val_accuracy: 0.7422\n",
            "Epoch 24/50\n",
            "32/32 [==============================] - 0s 12ms/step - loss: 0.5205 - accuracy: 0.7566 - val_loss: 0.5297 - val_accuracy: 0.7344\n",
            "Epoch 25/50\n",
            "32/32 [==============================] - 0s 11ms/step - loss: 0.5182 - accuracy: 0.7537 - val_loss: 0.5287 - val_accuracy: 0.7344\n",
            "Epoch 26/50\n",
            "32/32 [==============================] - 0s 10ms/step - loss: 0.5159 - accuracy: 0.7576 - val_loss: 0.5274 - val_accuracy: 0.7383\n",
            "Epoch 27/50\n",
            "32/32 [==============================] - 0s 11ms/step - loss: 0.5136 - accuracy: 0.7517 - val_loss: 0.5287 - val_accuracy: 0.7344\n",
            "Epoch 28/50\n",
            "32/32 [==============================] - 0s 11ms/step - loss: 0.5112 - accuracy: 0.7517 - val_loss: 0.5275 - val_accuracy: 0.7344\n",
            "Epoch 29/50\n",
            "32/32 [==============================] - 0s 12ms/step - loss: 0.5095 - accuracy: 0.7566 - val_loss: 0.5274 - val_accuracy: 0.7305\n",
            "Epoch 30/50\n",
            "32/32 [==============================] - 0s 15ms/step - loss: 0.5071 - accuracy: 0.7576 - val_loss: 0.5274 - val_accuracy: 0.7383\n",
            "Epoch 31/50\n",
            "32/32 [==============================] - 0s 12ms/step - loss: 0.5057 - accuracy: 0.7595 - val_loss: 0.5262 - val_accuracy: 0.7383\n",
            "Epoch 32/50\n",
            "32/32 [==============================] - 0s 10ms/step - loss: 0.5030 - accuracy: 0.7625 - val_loss: 0.5270 - val_accuracy: 0.7383\n",
            "Epoch 33/50\n",
            "32/32 [==============================] - 0s 10ms/step - loss: 0.5018 - accuracy: 0.7654 - val_loss: 0.5261 - val_accuracy: 0.7422\n",
            "Epoch 34/50\n",
            "32/32 [==============================] - 0s 12ms/step - loss: 0.4993 - accuracy: 0.7654 - val_loss: 0.5259 - val_accuracy: 0.7383\n",
            "Epoch 35/50\n",
            "32/32 [==============================] - 0s 10ms/step - loss: 0.4976 - accuracy: 0.7683 - val_loss: 0.5259 - val_accuracy: 0.7383\n",
            "Epoch 36/50\n",
            "32/32 [==============================] - 0s 10ms/step - loss: 0.4964 - accuracy: 0.7654 - val_loss: 0.5256 - val_accuracy: 0.7422\n",
            "Epoch 37/50\n",
            "32/32 [==============================] - 0s 9ms/step - loss: 0.4949 - accuracy: 0.7693 - val_loss: 0.5244 - val_accuracy: 0.7422\n",
            "Epoch 38/50\n",
            "32/32 [==============================] - 0s 10ms/step - loss: 0.4932 - accuracy: 0.7713 - val_loss: 0.5252 - val_accuracy: 0.7422\n",
            "Epoch 39/50\n",
            "32/32 [==============================] - 0s 10ms/step - loss: 0.4917 - accuracy: 0.7752 - val_loss: 0.5250 - val_accuracy: 0.7422\n",
            "Epoch 40/50\n",
            "32/32 [==============================] - 0s 9ms/step - loss: 0.4905 - accuracy: 0.7742 - val_loss: 0.5254 - val_accuracy: 0.7422\n",
            "Epoch 41/50\n",
            "32/32 [==============================] - 0s 10ms/step - loss: 0.4892 - accuracy: 0.7761 - val_loss: 0.5246 - val_accuracy: 0.7422\n",
            "Epoch 42/50\n",
            "32/32 [==============================] - 0s 9ms/step - loss: 0.4883 - accuracy: 0.7761 - val_loss: 0.5245 - val_accuracy: 0.7383\n",
            "Epoch 43/50\n",
            "32/32 [==============================] - 0s 9ms/step - loss: 0.4869 - accuracy: 0.7752 - val_loss: 0.5247 - val_accuracy: 0.7383\n",
            "Epoch 44/50\n",
            "32/32 [==============================] - 0s 11ms/step - loss: 0.4861 - accuracy: 0.7761 - val_loss: 0.5246 - val_accuracy: 0.7383\n",
            "Epoch 45/50\n",
            "32/32 [==============================] - 0s 10ms/step - loss: 0.4853 - accuracy: 0.7791 - val_loss: 0.5237 - val_accuracy: 0.7383\n",
            "Epoch 46/50\n",
            "32/32 [==============================] - 0s 9ms/step - loss: 0.4843 - accuracy: 0.7761 - val_loss: 0.5244 - val_accuracy: 0.7422\n",
            "Epoch 47/50\n",
            "32/32 [==============================] - 0s 9ms/step - loss: 0.4837 - accuracy: 0.7781 - val_loss: 0.5243 - val_accuracy: 0.7422\n",
            "Epoch 48/50\n",
            "32/32 [==============================] - 0s 9ms/step - loss: 0.4829 - accuracy: 0.7791 - val_loss: 0.5233 - val_accuracy: 0.7422\n",
            "Epoch 49/50\n",
            "32/32 [==============================] - 0s 9ms/step - loss: 0.4823 - accuracy: 0.7801 - val_loss: 0.5238 - val_accuracy: 0.7422\n",
            "Epoch 50/50\n",
            "32/32 [==============================] - 0s 10ms/step - loss: 0.4814 - accuracy: 0.7791 - val_loss: 0.5235 - val_accuracy: 0.7383\n"
          ]
        }
      ],
      "source": [
        "# Fit the model using 50 epochs and the training data\n",
        "history = model.fit(\n",
        "    X_train_scaled,  # Scaled training features\n",
        "    y_train,         # Training labels\n",
        "    epochs=50,       # Number of epochs to train the model\n",
        "    validation_split=0.2  # Optionally, reserve 20% of the training data for validation\n",
        ")\n"
      ]
    },
    {
      "cell_type": "code",
      "execution_count": 15,
      "metadata": {},
      "outputs": [
        {
          "data": {
            "image/png": "[encoded data removed]",
            "text/plain": [
              "<Figure size 640x480 with 1 Axes>"
            ]
          },
          "metadata": {},
          "output_type": "display_data"
        },
        {
          "data": {
            "image/png": "[encoded data removed]",
            "text/plain": [
              "<Figure size 640x480 with 1 Axes>"
            ]
          },
          "metadata": {},
          "output_type": "display_data"
        }
      ],
      "source": [
        "import matplotlib.pyplot as plt\n",
        "\n",
        "# Plot training & validation accuracy values\n",
        "plt.plot(history.history['accuracy'])\n",
        "plt.plot(history.history['val_accuracy'])\n",
        "plt.title('Model accuracy')\n",
        "plt.ylabel('Accuracy')\n",
        "plt.xlabel('Epoch')\n",
        "plt.legend(['Train', 'Validation'], loc='upper left')\n",
        "plt.show()\n",
        "\n",
        "# Plot training & validation loss values\n",
        "plt.plot(history.history['loss'])\n",
        "plt.plot(history.history['val_loss'])\n",
        "plt.title('Model loss')\n",
        "plt.ylabel('Loss')\n",
        "plt.xlabel('Epoch')\n",
        "plt.legend(['Train', 'Validation'], loc='upper left')\n",
        "plt.show()\n"
      ]
    },
    {
      "cell_type": "markdown",
      "metadata": {
        "id": "RfHMPZVI6q61"
      },
      "source": [
        "### Step 3: Evaluate the model using the test data to determine the model’s loss and accuracy.\n"
      ]
    },
    {
      "cell_type": "code",
      "execution_count": 16,
      "metadata": {
        "colab": {
          "base_uri": "https://localhost:8080/"
        },
        "id": "5hfVADKo6q61",
        "outputId": "7df473ad-3301-4b49-e5c3-16e1687cc1cf"
      },
      "outputs": [
        {
          "name": "stdout",
          "output_type": "stream",
          "text": [
            "10/10 [==============================] - 0s 5ms/step - loss: 0.5210 - accuracy: 0.7375\n",
            "Test Loss: 0.5209774374961853\n",
            "Test Accuracy: 0.737500011920929\n"
          ]
        }
      ],
      "source": [
        "# Evaluate the model on the test data\n",
        "test_loss, test_accuracy = model.evaluate(X_test_scaled, y_test)\n",
        "\n",
        "# Display the model loss and accuracy results\n",
        "print(\"Test Loss:\", test_loss)\n",
        "print(\"Test Accuracy:\", test_accuracy)\n"
      ]
    },
    {
      "cell_type": "markdown",
      "metadata": {
        "id": "jpAv0rXA6q61"
      },
      "source": [
        "### Step 4: Save and export your model to a keras file, and name the file `student_loans.keras`.\n"
      ]
    },
    {
      "cell_type": "code",
      "execution_count": 17,
      "metadata": {
        "id": "q0MetN0W6q61"
      },
      "outputs": [
        {
          "name": "stdout",
          "output_type": "stream",
          "text": [
            "Model has been saved to: student_loans_model.keras\n"
          ]
        }
      ],
      "source": [
        "# Set the model's file path\n",
        "model_file_path = 'student_loans_model.keras'\n",
        "\n",
        "# Export your model to a keras file\n",
        "model.save(model_file_path)\n",
        "print(\"Model has been saved to:\", model_file_path)\n",
        "\n"
      ]
    },
    {
      "cell_type": "markdown",
      "metadata": {
        "id": "R1opCDdN6q61"
      },
      "source": [
        "---\n",
        "## Predict Loan Repayment Success by Using your Neural Network Model"
      ]
    },
    {
      "cell_type": "markdown",
      "metadata": {
        "id": "TfIfpeiy6q61"
      },
      "source": [
        "### Step 1: Reload your saved model."
      ]
    },
    {
      "cell_type": "code",
      "execution_count": 18,
      "metadata": {
        "id": "OCET2mvW6q61"
      },
      "outputs": [
        {
          "name": "stdout",
          "output_type": "stream",
          "text": [
            "Model loaded successfully from: student_loans_model.keras\n",
            "Model: \"sequential\"\n",
            "_________________________________________________________________\n",
            " Layer (type)                Output Shape              Param #   \n",
            "=================================================================\n",
            " dense (Dense)               (None, 6)                 72        \n",
            "                                                                 \n",
            " dense_1 (Dense)             (None, 3)                 21        \n",
            "                                                                 \n",
            " dense_2 (Dense)             (None, 1)                 4         \n",
            "                                                                 \n",
            "=================================================================\n",
            "Total params: 97\n",
            "Trainable params: 97\n",
            "Non-trainable params: 0\n",
            "_________________________________________________________________\n"
          ]
        }
      ],
      "source": [
        "from tensorflow.keras.models import load_model\n",
        "\n",
        "# Set the model's file path\n",
        "model_file_path = 'student_loans_model.keras'\n",
        "\n",
        "\n",
        "# Load the model to a new object\n",
        "loaded_model = load_model(model_file_path)\n",
        "\n",
        "print(\"Model loaded successfully from:\", model_file_path)\n",
        "\n",
        "loaded_model.summary()\n",
        "\n",
        "\n"
      ]
    },
    {
      "cell_type": "markdown",
      "metadata": {
        "id": "rTPKooGw6q61"
      },
      "source": [
        "### Step 2: Make predictions on the testing data and save the predictions to a DataFrame."
      ]
    },
    {
      "cell_type": "code",
      "execution_count": 19,
      "metadata": {
        "colab": {
          "base_uri": "https://localhost:8080/"
        },
        "id": "Vet7qjgx6q62",
        "outputId": "0925af42-7e12-4978-8396-2a2c1580e1eb"
      },
      "outputs": [
        {
          "name": "stdout",
          "output_type": "stream",
          "text": [
            "10/10 [==============================] - 1s 13ms/step\n",
            "Sample of predictions: [[0.35048327]\n",
            " [0.3766527 ]\n",
            " [0.9440822 ]\n",
            " [0.751546  ]\n",
            " [0.96266246]]\n"
          ]
        }
      ],
      "source": [
        "# Make predictions with the test data\n",
        "predictions = loaded_model.predict(X_test_scaled)\n",
        "\n",
        "# Display a sample of the predictions\n",
        "print(\"Sample of predictions:\", predictions[:5])\n",
        "\n"
      ]
    },
    {
      "cell_type": "code",
      "execution_count": 20,
      "metadata": {
        "colab": {
          "base_uri": "https://localhost:8080/",
          "height": 424
        },
        "id": "87o8exFPhjfl",
        "outputId": "da5339c5-cea7-43e4-ec22-e168ea16dfa2"
      },
      "outputs": [
        {
          "name": "stdout",
          "output_type": "stream",
          "text": [
            "10/10 [==============================] - 0s 15ms/step\n",
            "   Predicted Credit Ranking\n",
            "0                         0\n",
            "1                         0\n",
            "2                         1\n",
            "3                         1\n",
            "4                         1\n"
          ]
        }
      ],
      "source": [
        "# Save the predictions to a DataFrame and round the predictions to binary results\n",
        "\n",
        "# Make predictions with the test data\n",
        "predictions = loaded_model.predict(X_test_scaled)\n",
        "\n",
        "# Convert probabilities to binary predictions by rounding\n",
        "binary_predictions = (predictions > 0.5).astype(int)\n",
        "\n",
        "# Save the binary predictions to a DataFrame\n",
        "predictions_df = pd.DataFrame(binary_predictions, columns=['Predicted Credit Ranking'])\n",
        "\n",
        "# Display a sample of the DataFrame\n",
        "print(predictions_df.head())"
      ]
    },
    {
      "cell_type": "markdown",
      "metadata": {
        "id": "oxxLwycg6q62"
      },
      "source": [
        "### Step 4: Display a classification report with the y test data and predictions"
      ]
    },
    {
      "cell_type": "code",
      "execution_count": 21,
      "metadata": {
        "colab": {
          "base_uri": "https://localhost:8080/"
        },
        "id": "UTxYZibW6q67",
        "outputId": "f341b396-9b4c-478c-dba8-f6d904ba10e3"
      },
      "outputs": [
        {
          "name": "stdout",
          "output_type": "stream",
          "text": [
            "10/10 [==============================] - 0s 13ms/step\n",
            "              precision    recall  f1-score   support\n",
            "\n",
            "           0       0.72      0.75      0.73       154\n",
            "           1       0.76      0.72      0.74       166\n",
            "\n",
            "    accuracy                           0.74       320\n",
            "   macro avg       0.74      0.74      0.74       320\n",
            "weighted avg       0.74      0.74      0.74       320\n",
            "\n"
          ]
        }
      ],
      "source": [
        "# Print the classification report with the y test data and predictions\n",
        "\n",
        "# Make predictions with the test data\n",
        "predictions = loaded_model.predict(X_test_scaled)\n",
        "\n",
        "# Convert probabilities to binary predictions by rounding\n",
        "binary_predictions = (predictions > 0.5).astype(int)\n",
        "\n",
        "# Generate the classification report\n",
        "report = classification_report(y_test, binary_predictions)\n",
        "\n",
        "# Print the classification report\n",
        "print(report)\n"
      ]
    },
    {
      "cell_type": "markdown",
      "metadata": {
        "id": "8Aaof1tBtcp6"
      },
      "source": [
        "---\n",
        "## Discuss creating a recommendation system for student loans"
      ]
    },
    {
      "cell_type": "markdown",
      "metadata": {
        "id": "_CC8cNpNtcp6"
      },
      "source": [
        "Briefly answer the following questions in the space provided:\n",
        "\n",
        "1. Describe the data that you would need to collect to build a recommendation system to recommend student loan options for students. Explain why this data would be relevant and appropriate.\n",
        "\n",
        "To build a recommendation system for student loans, collect data on student finances, academic background, specific loan details, and historical repayment. This allows for personalized and viable loan recommendations.\n",
        "\n",
        "\n",
        "2. Based on the data you chose to use in this recommendation system, would your model be using collaborative filtering, content-based filtering, or context-based filtering? Justify why the data you selected would be suitable for your choice of filtering method.\n",
        "\n",
        "Based on the data collected, the recommendation system would use content-based filtering. This approach matches loan options to individual students by leveraging detailed attributes of their financial and academic profiles, ensuring personalized and relevant recommendations.\n",
        "\n",
        "3. Describe two real-world challenges that you would take into consideration while building a recommendation system for student loans. Explain why these challenges would be of concern for a student loan recommendation system.\n",
        "\n",
        "Two real-world challenges in building a student loan recommendation system:\n",
        "\n",
        "A. Privacy and Data Security: Handling sensitive financial and personal data requires robust security measures to protect against breaches and maintain user trust.\n",
        "\n",
        "B. Bias and Fairness: Ensuring the system provides fair recommendations to all students, avoiding bias that could disadvantage certain groups.\n"
      ]
    },
    {
      "cell_type": "markdown",
      "metadata": {
        "id": "5KqIT8kYtcp6"
      },
      "source": [
        "**1. Describe the data that you would need to collect to build a recommendation system to recommend student loan options for students. Explain why this data would be relevant and appropriate.**\n",
        "\n",
        "\n",
        "**2. Based on the data you chose to use in this recommendation system, would your model be using collaborative filtering, content-based filtering, or context-based filtering? Justify why the data you selected would be suitable for your choice of filtering method.**\n",
        "\n",
        "\n",
        "**3. Describe two real-world challenges that you would take into consideration while building a recommendation system for student loans. Explain why these challenges would be of concern for a student loan recommendation system.**\n",
        "\n"
      ]
    }
  ],
  "metadata": {
    "colab": {
      "provenance": []
    },
    "kernelspec": {
      "display_name": "Python 3 (ipykernel)",
      "language": "python",
      "name": "python3"
    },
    "language_info": {
      "codemirror_mode": {
        "name": "ipython",
        "version": 3
      },
      "file_extension": ".py",
      "mimetype": "text/x-python",
      "name": "python",
      "nbconvert_exporter": "python",
      "pygments_lexer": "ipython3",
      "version": "3.10.13"
    }
  },
  "nbformat": 4,
  "nbformat_minor": 0
}
